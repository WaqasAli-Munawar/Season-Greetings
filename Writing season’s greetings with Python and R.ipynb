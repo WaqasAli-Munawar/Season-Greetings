{
 "cells": [
  {
   "cell_type": "markdown",
   "id": "233eb179",
   "metadata": {},
   "source": [
    "While waiting for Christmas and New Year when all our dreams will come true, let’s combine business with pleasure and write season’s greetings by using a funny method available in Python, R, and other programming languages—cowsay! ![:cow:](https://emoji.discourse-cdn.com/apple/cow.png?v=12 \":cow:\")![:speech_balloon:](https://emoji.discourse-cdn.com/apple/speech_balloon.png?v=12 \":speech_balloon:\")\n",
    "\n",
    "A bit of background. Originally, cowsay is a program written in Perl by Tony Monroe and designed to generate **ASCII art** pictures of a cow (or another animal) with a message bubble. Its first version was officially released in 1999. Since then, the method has been reproduced by other developers in other programming languages.\n",
    "\n",
    "Let’s learn the cowsay approach for writing our Python or R season’s greetings! ![:santa:](https://emoji.discourse-cdn.com/apple/santa.png?v=12 \":santa:\")![:email:](https://emoji.discourse-cdn.com/apple/email.png?v=12 \":email:\")![:christmas_tree:](https://emoji.discourse-cdn.com/apple/christmas_tree.png?v=12 \":christmas_tree:\")"
   ]
  },
  {
   "cell_type": "code",
   "execution_count": 1,
   "id": "558624e8",
   "metadata": {},
   "outputs": [
    {
     "name": "stdout",
     "output_type": "stream",
     "text": [
      "Collecting cowsay\n",
      "  Obtaining dependency information for cowsay from https://files.pythonhosted.org/packages/f1/13/63c0a02c44024ee16f664e0b36eefeb22d54e93531630bd99e237986f534/cowsay-6.1-py3-none-any.whl.metadata\n",
      "  Downloading cowsay-6.1-py3-none-any.whl.metadata (5.6 kB)\n",
      "Downloading cowsay-6.1-py3-none-any.whl (25 kB)\n",
      "Installing collected packages: cowsay\n",
      "Successfully installed cowsay-6.1\n",
      "Note: you may need to restart the kernel to use updated packages.\n"
     ]
    }
   ],
   "source": [
    "# %pip install cowsay"
   ]
  },
  {
   "cell_type": "code",
   "execution_count": 2,
   "id": "fafade08",
   "metadata": {},
   "outputs": [],
   "source": [
    "import cowsay"
   ]
  },
  {
   "cell_type": "code",
   "execution_count": 3,
   "id": "69b31bee",
   "metadata": {},
   "outputs": [
    {
     "name": "stdout",
     "output_type": "stream",
     "text": [
      "  _________________________________________________\n",
      " /                                                 \\\n",
      "| Hello Everyone, Welcome to DIgiTech Synergy Pvt.  |\n",
      "| Ltd                                               |\n",
      " \\                                                 /\n",
      "  =================================================\n",
      "                                                 \\\n",
      "                                                  \\\n",
      "                                                    ^__^\n",
      "                                                    (oo)\\_______\n",
      "                                                    (__)\\       )\\/\\\n",
      "                                                        ||----w |\n",
      "                                                        ||     ||\n"
     ]
    }
   ],
   "source": [
    "# cowsay.cow(your_message_in_quotation_marks)\n",
    "\n",
    "cowsay.cow(\"Hello Everyone, Welcome to DIgiTech Synergy Pvt. Ltd\")"
   ]
  },
  {
   "cell_type": "markdown",
   "id": "ddcb4de7",
   "metadata": {},
   "source": [
    "Instead of *cow*, you can opt for another “speaker” from the following list: \n",
    "* beavis, \n",
    "* cheese, \n",
    "* cow, \n",
    "* daemon, \n",
    "* dragon, \n",
    "* fox, \n",
    "* ghostbusters, \n",
    "* kitty, \n",
    "* meow, \n",
    "* miki, \n",
    "* milk, \n",
    "* octopus, \n",
    "* pig, \n",
    "* stegosaurus, \n",
    "* stimpy, \n",
    "* trex, \n",
    "* turkey, \n",
    "* turtle, \n",
    "* tux; \n",
    "\n",
    "See the code example below. In the **[documentation](https://pypi.org/project/cowsay/)**, you’ll also learn the way of using your own (or found on the Internet) ASCII art creature."
   ]
  },
  {
   "cell_type": "code",
   "execution_count": 4,
   "id": "f4cc49fd",
   "metadata": {},
   "outputs": [
    {
     "name": "stdout",
     "output_type": "stream",
     "text": [
      "  _______________________________________________\n",
      "| Happy holidays to all data science enthusiasts! |\n",
      "  ===============================================\n",
      "                                                \\\n",
      "                                                 \\\n",
      "                                                  \\\n",
      "                                                   |\\_/|,,_____,~~`\n",
      "                                                   (.\".)~~     )`~}}\n",
      "                                                    \\o/\\ /---~\\\\ ~}}\n",
      "                                                      _//    _// ~}\n"
     ]
    }
   ],
   "source": [
    "cowsay.fox('Happy holidays to all data science enthusiasts!')"
   ]
  },
  {
   "cell_type": "code",
   "execution_count": 7,
   "id": "a94d070f",
   "metadata": {},
   "outputs": [
    {
     "data": {
      "text/plain": [
       "'  ___________\\n| Hello World |\\n  ===========\\n           \\\\\\n            \\\\\\n              ^__^\\n              (oo)\\\\_______\\n              (__)\\\\       )\\\\/\\\\\\n                  ||----w |\\n                  ||     ||'"
      ]
     },
     "execution_count": 7,
     "metadata": {},
     "output_type": "execute_result"
    }
   ],
   "source": [
    "cowsay.get_output_string('cow', 'Hello World')"
   ]
  },
  {
   "cell_type": "code",
   "execution_count": 8,
   "id": "7184c934",
   "metadata": {},
   "outputs": [
    {
     "name": "stdout",
     "output_type": "stream",
     "text": [
      "  ___________\n",
      "| Hello World |\n",
      "  ===========\n",
      "           \\\n",
      "            \\\n",
      "              ^__^\n",
      "              (oo)\\_______\n",
      "              (__)\\       )\\/\\\n",
      "                  ||----w |\n",
      "                  ||     ||\n"
     ]
    }
   ],
   "source": [
    "print('  ___________\\n| Hello World |\\n  ===========\\n           \\\\\\n            \\\\\\n              ^__^\\n              (oo)\\\\_______\\n              (__)\\\\       )\\\\/\\\\\\n                  ||----w |\\n                  ||     ||')"
   ]
  },
  {
   "cell_type": "code",
   "execution_count": 21,
   "id": "6f32165a",
   "metadata": {},
   "outputs": [],
   "source": [
    "cow = \"           \\\\\\n            \\\\\\n              ^__^\\n              (oo)\\\\_______\\n              (__)\\\\       )\\\\/\\\\\\n                  ||----w |\\n                  ||     ||\""
   ]
  },
  {
   "cell_type": "code",
   "execution_count": 22,
   "id": "145b216b",
   "metadata": {},
   "outputs": [
    {
     "name": "stdout",
     "output_type": "stream",
     "text": [
      "  _______________________\n",
      "| Cows are my best friend |\n",
      "  =======================\n",
      "                                  \\\n",
      "                                   \\\n",
      "                                     ^__^\n",
      "                                     (oo)\\_______\n",
      "                                     (__)\\       )\\/\\\n",
      "                                         ||----w |\n",
      "                                         ||     ||\n"
     ]
    }
   ],
   "source": [
    "cowsay.draw('Cows are my best friend', cow)"
   ]
  },
  {
   "cell_type": "code",
   "execution_count": 23,
   "id": "d723fe2f",
   "metadata": {},
   "outputs": [
    {
     "name": "stdout",
     "output_type": "stream",
     "text": [
      "  ____________________\n",
      "| Welcome to ASCII Art |\n",
      "  ====================\n",
      "                      \\\n",
      "                       \\\n",
      "                        \\\n",
      "                         \\\n",
      "                                                    ___-------___\n",
      "                                                _-~~             ~~-_\n",
      "                                             _-~                    /~-_\n",
      "                           /^\\__/^\\         /~  \\                   /    \\\n",
      "                         /|  O|| O|        /      \\_______________/        \\\n",
      "                        | |___||__|      /       /                \\          \\\n",
      "                        |          \\    /      /                    \\          \\\n",
      "                        |   (_______) /______/                        \\_________ \\\n",
      "                        |         / /         \\                      /            \\\n",
      "                         \\         \\^\\\\         \\                  /               \\     /\n",
      "                           \\         ||           \\______________/      _-_       //\\__//\n",
      "                             \\       ||------_-~~-_ ------------- \\ --/~   ~\\    || __/\n",
      "                               ~-----||====/~     |==================|       |/~~~~~\n",
      "                                (_(__/  ./     /                    \\_\\      \\.\n",
      "                                       (_(___/                         \\_____)_)\n"
     ]
    }
   ],
   "source": [
    "cowsay.turtle('Welcome to ASCII Art')"
   ]
  },
  {
   "cell_type": "code",
   "execution_count": null,
   "id": "b48a32ee",
   "metadata": {},
   "outputs": [],
   "source": []
  }
 ],
 "metadata": {
  "kernelspec": {
   "display_name": "Python 3 (ipykernel)",
   "language": "python",
   "name": "python3"
  },
  "language_info": {
   "codemirror_mode": {
    "name": "ipython",
    "version": 3
   },
   "file_extension": ".py",
   "mimetype": "text/x-python",
   "name": "python",
   "nbconvert_exporter": "python",
   "pygments_lexer": "ipython3",
   "version": "3.11.5"
  }
 },
 "nbformat": 4,
 "nbformat_minor": 5
}
